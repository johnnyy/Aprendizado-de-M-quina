{
 "cells": [
  {
   "cell_type": "code",
   "execution_count": 1,
   "metadata": {},
   "outputs": [
    {
     "name": "stderr",
     "output_type": "stream",
     "text": [
      "Using TensorFlow backend.\n"
     ]
    }
   ],
   "source": [
    "from keras import optimizers\n",
    "from keras import losses\n",
    "from keras import layers\n",
    "from keras import models\n",
    "#from keras.preprocessing import ImageDataGenerator\n",
    "from keras.preprocessing import image\n",
    "from keras.datasets import mnist\n",
    "from keras.utils import to_categorical\n",
    "import matplotlib.pyplot as plt\n",
    "import numpy as np\n",
    "%matplotlib inline"
   ]
  },
  {
   "cell_type": "code",
   "execution_count": 2,
   "metadata": {},
   "outputs": [],
   "source": [
    "(train_images, train_labels), (test_images, test_labels) = mnist.load_data()"
   ]
  },
  {
   "cell_type": "code",
   "execution_count": 3,
   "metadata": {},
   "outputs": [
    {
     "data": {
      "text/plain": [
       "array([0, 1, 2, 3, 4, 5, 6, 7, 8, 9], dtype=uint8)"
      ]
     },
     "execution_count": 3,
     "metadata": {},
     "output_type": "execute_result"
    }
   ],
   "source": [
    "np.unique(train_labels)"
   ]
  },
  {
   "cell_type": "code",
   "execution_count": 4,
   "metadata": {},
   "outputs": [],
   "source": [
    "train_images = train_images.reshape((60000, 28, 28, 1))\n",
    "train_images = train_images.astype('float32') / 255\n",
    "test_images = test_images.reshape((10000, 28, 28, 1))\n",
    "test_images = test_images.astype('float32') / 255\n",
    "train_labels = to_categorical(train_labels)\n",
    "test_labels = to_categorical(test_labels)"
   ]
  },
  {
   "cell_type": "code",
   "execution_count": null,
   "metadata": {},
   "outputs": [
    {
     "name": "stdout",
     "output_type": "stream",
     "text": [
      "Train on 60000 samples, validate on 60000 samples\n",
      "Epoch 1/10\n",
      "60000/60000 [==============================] - 74s 1ms/step - loss: 0.0085 - acc: 0.9410 - val_loss: 0.0039 - val_acc: 0.9743\n",
      "Epoch 2/10\n",
      "60000/60000 [==============================] - 66s 1ms/step - loss: 0.0026 - acc: 0.9835 - val_loss: 0.0020 - val_acc: 0.9872\n",
      "Epoch 3/10\n",
      "60000/60000 [==============================] - 66s 1ms/step - loss: 0.0018 - acc: 0.9883 - val_loss: 0.0012 - val_acc: 0.9922\n",
      "Epoch 4/10\n",
      "60000/60000 [==============================] - 67s 1ms/step - loss: 0.0015 - acc: 0.9906 - val_loss: 0.0014 - val_acc: 0.9914\n",
      "Epoch 5/10\n",
      "60000/60000 [==============================] - 66s 1ms/step - loss: 0.0012 - acc: 0.9922 - val_loss: 0.0011 - val_acc: 0.9931\n",
      "Epoch 6/10\n",
      "60000/60000 [==============================] - 74s 1ms/step - loss: 0.0011 - acc: 0.9932 - val_loss: 0.0010 - val_acc: 0.9939\n",
      "Epoch 7/10\n",
      "60000/60000 [==============================] - 68s 1ms/step - loss: 9.0311e-04 - acc: 0.9944 - val_loss: 0.0011 - val_acc: 0.9932\n",
      "Epoch 8/10\n",
      "60000/60000 [==============================] - 72s 1ms/step - loss: 7.8926e-04 - acc: 0.9951 - val_loss: 5.8114e-04 - val_acc: 0.9964\n",
      "Epoch 9/10\n",
      "60000/60000 [==============================] - 75s 1ms/step - loss: 6.8339e-04 - acc: 0.9957 - val_loss: 5.4542e-04 - val_acc: 0.9967\n",
      "Epoch 10/10\n",
      "40832/60000 [===================>..........] - ETA: 16s - loss: 6.3937e-04 - acc: 0.9962"
     ]
    }
   ],
   "source": [
    "modelo =models.Sequential()\n",
    "modelo.add(layers.Conv2D(32,(3,3),activation='relu',input_shape=(28,28,1)))\n",
    "modelo.add(layers.MaxPool2D((2,2)))\n",
    "modelo.add(layers.Conv2D(64,(3,3),activation='relu'))\n",
    "modelo.add(layers.MaxPooling2D((2, 2)))\n",
    "modelo.add(layers.Conv2D(filters = 64, kernel_size=(3, 3), activation='relu'))\n",
    "modelo.add(layers.Flatten())\n",
    "modelo.add(layers.Dense(units=64,activation='relu'))\n",
    "modelo.add(layers.Dense(units=10,activation='softmax'))\n",
    "modelo.compile(optimizer=optimizers.rmsprop(), loss=losses.mean_squared_error, metrics=['accuracy'])\n",
    "history = modelo.fit(train_images,train_labels,batch_size=64,epochs=10,validation_data=(train_images,train_labels))"
   ]
  },
  {
   "cell_type": "code",
   "execution_count": 9,
   "metadata": {},
   "outputs": [
    {
     "name": "stdout",
     "output_type": "stream",
     "text": [
      "_________________________________________________________________\n",
      "Layer (type)                 Output Shape              Param #   \n",
      "=================================================================\n",
      "conv2d_10 (Conv2D)           (None, 26, 26, 32)        320       \n",
      "_________________________________________________________________\n",
      "max_pooling2d_7 (MaxPooling2 (None, 13, 13, 32)        0         \n",
      "_________________________________________________________________\n",
      "conv2d_11 (Conv2D)           (None, 11, 11, 64)        18496     \n",
      "_________________________________________________________________\n",
      "max_pooling2d_8 (MaxPooling2 (None, 5, 5, 64)          0         \n",
      "_________________________________________________________________\n",
      "conv2d_12 (Conv2D)           (None, 3, 3, 64)          36928     \n",
      "_________________________________________________________________\n",
      "flatten_4 (Flatten)          (None, 576)               0         \n",
      "_________________________________________________________________\n",
      "dense_7 (Dense)              (None, 64)                36928     \n",
      "_________________________________________________________________\n",
      "dense_8 (Dense)              (None, 10)                650       \n",
      "=================================================================\n",
      "Total params: 93,322\n",
      "Trainable params: 93,322\n",
      "Non-trainable params: 0\n",
      "_________________________________________________________________\n"
     ]
    }
   ],
   "source": [
    "modelo.summary()"
   ]
  },
  {
   "cell_type": "code",
   "execution_count": 15,
   "metadata": {},
   "outputs": [
    {
     "name": "stdout",
     "output_type": "stream",
     "text": [
      "10000/10000 [==============================] - 3s 315us/step\n"
     ]
    }
   ],
   "source": [
    "loss,acc = modelo.evaluate(test_images, test_labels)"
   ]
  },
  {
   "cell_type": "code",
   "execution_count": 16,
   "metadata": {},
   "outputs": [
    {
     "data": {
      "text/plain": [
       "0.0014605086742024106"
      ]
     },
     "execution_count": 16,
     "metadata": {},
     "output_type": "execute_result"
    }
   ],
   "source": [
    "loss"
   ]
  },
  {
   "cell_type": "code",
   "execution_count": 19,
   "metadata": {},
   "outputs": [
    {
     "data": {
      "image/png": "[encoded data removed]",
      "text/plain": [
       "<matplotlib.figure.Figure at 0x7f4a4c58ad68>"
      ]
     },
     "metadata": {},
     "output_type": "display_data"
    }
   ],
   "source": [
    "plt.plot(history.epoch,history.history['acc'],);"
   ]
  },
  {
   "cell_type": "code",
   "execution_count": 20,
   "metadata": {},
   "outputs": [
    {
     "data": {
      "image/png": "[encoded data removed]",
      "text/plain": [
       "<matplotlib.figure.Figure at 0x7f4a42dd0550>"
      ]
     },
     "metadata": {},
     "output_type": "display_data"
    }
   ],
   "source": [
    "plt.plot(history.epoch,history.history['loss']);"
   ]
  },
  {
   "cell_type": "code",
   "execution_count": null,
   "metadata": {},
   "outputs": [],
   "source": []
  }
 ],
 "metadata": {
  "kernelspec": {
   "display_name": "Python 3",
   "language": "python",
   "name": "python3"
  },
  "language_info": {
   "codemirror_mode": {
    "name": "ipython",
    "version": 3
   },
   "file_extension": ".py",
   "mimetype": "text/x-python",
   "name": "python",
   "nbconvert_exporter": "python",
   "pygments_lexer": "ipython3",
   "version": "3.6.4"
  }
 },
 "nbformat": 4,
 "nbformat_minor": 2
}

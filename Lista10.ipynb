{
 "cells": [
  {
   "cell_type": "code",
   "execution_count": 1,
   "metadata": {},
   "outputs": [],
   "source": [
    "import numpy as np\n",
    "import matplotlib.pyplot as plt\n",
    "import pandas as pd\n",
    "from sklearn import linear_model\n",
    "from sklearn import model_selection\n",
    "from sklearn import metrics\n"
   ]
  },
  {
   "cell_type": "code",
   "execution_count": 2,
   "metadata": {},
   "outputs": [
    {
     "data": {
      "text/html": [
       "<div>\n",
       "<style scoped>\n",
       "    .dataframe tbody tr th:only-of-type {\n",
       "        vertical-align: middle;\n",
       "    }\n",
       "\n",
       "    .dataframe tbody tr th {\n",
       "        vertical-align: top;\n",
       "    }\n",
       "\n",
       "    .dataframe thead th {\n",
       "        text-align: right;\n",
       "    }\n",
       "</style>\n",
       "<table border=\"1\" class=\"dataframe\">\n",
       "  <thead>\n",
       "    <tr style=\"text-align: right;\">\n",
       "      <th></th>\n",
       "      <th>admit</th>\n",
       "      <th>gre</th>\n",
       "      <th>gpa</th>\n",
       "      <th>rank</th>\n",
       "    </tr>\n",
       "  </thead>\n",
       "  <tbody>\n",
       "    <tr>\n",
       "      <th>0</th>\n",
       "      <td>0</td>\n",
       "      <td>380</td>\n",
       "      <td>3.61</td>\n",
       "      <td>3</td>\n",
       "    </tr>\n",
       "    <tr>\n",
       "      <th>1</th>\n",
       "      <td>1</td>\n",
       "      <td>660</td>\n",
       "      <td>3.67</td>\n",
       "      <td>3</td>\n",
       "    </tr>\n",
       "    <tr>\n",
       "      <th>2</th>\n",
       "      <td>1</td>\n",
       "      <td>800</td>\n",
       "      <td>4.00</td>\n",
       "      <td>1</td>\n",
       "    </tr>\n",
       "    <tr>\n",
       "      <th>3</th>\n",
       "      <td>1</td>\n",
       "      <td>640</td>\n",
       "      <td>3.19</td>\n",
       "      <td>4</td>\n",
       "    </tr>\n",
       "    <tr>\n",
       "      <th>4</th>\n",
       "      <td>0</td>\n",
       "      <td>520</td>\n",
       "      <td>2.93</td>\n",
       "      <td>4</td>\n",
       "    </tr>\n",
       "  </tbody>\n",
       "</table>\n",
       "</div>"
      ],
      "text/plain": [
       "   admit  gre   gpa  rank\n",
       "0      0  380  3.61     3\n",
       "1      1  660  3.67     3\n",
       "2      1  800  4.00     1\n",
       "3      1  640  3.19     4\n",
       "4      0  520  2.93     4"
      ]
     },
     "execution_count": 2,
     "metadata": {},
     "output_type": "execute_result"
    }
   ],
   "source": [
    "df = pd.read_csv(\"binary.csv\")\n",
    "df.head()"
   ]
  },
  {
   "cell_type": "code",
   "execution_count": 13,
   "metadata": {},
   "outputs": [],
   "source": [
    "X_train, X_test, y_train, y_test = model_selection.train_test_split(df.iloc[:,1:4].values,df.iloc[:,0].values,stratify=df.iloc[:,0].values,train_size=0.7,random_state=2,test_size=0.3)"
   ]
  },
  {
   "cell_type": "markdown",
   "metadata": {},
   "source": [
    "## Encontrando coeficientes em cada penalidade"
   ]
  },
  {
   "cell_type": "code",
   "execution_count": 14,
   "metadata": {},
   "outputs": [
    {
     "name": "stdout",
     "output_type": "stream",
     "text": [
      "none: [[ -0.39813807 160.30427502 -71.59629908]]\n"
     ]
    }
   ],
   "source": [
    "SGDnone = linear_model.SGDClassifier(penalty='none',max_iter=50000,random_state=2)\n",
    "SGDnone.fit(X_train,y_train)\n",
    "print(\"none:\",SGDnone.coef_)"
   ]
  },
  {
   "cell_type": "code",
   "execution_count": 15,
   "metadata": {},
   "outputs": [
    {
     "name": "stdout",
     "output_type": "stream",
     "text": [
      "l2: [[  0.24283981 161.27746313 -44.77894756]]\n"
     ]
    }
   ],
   "source": [
    "SGDl2 = linear_model.SGDClassifier(penalty='l2',max_iter=50000,random_state=2)\n",
    "SGDl2.fit(X_train,y_train)\n",
    "print(\"l2:\",SGDl2.coef_)"
   ]
  },
  {
   "cell_type": "code",
   "execution_count": 21,
   "metadata": {},
   "outputs": [
    {
     "name": "stdout",
     "output_type": "stream",
     "text": [
      "l1: [[  0.         116.21326381 -54.33800944]]\n"
     ]
    }
   ],
   "source": [
    "SGDl1 = linear_model.SGDClassifier(penalty='l1',max_iter=50000,random_state=2)\n",
    "SGDl1.fit(X_train,y_train)\n",
    "print(\"l1:\",SGDl1.coef_)"
   ]
  },
  {
   "cell_type": "code",
   "execution_count": 17,
   "metadata": {},
   "outputs": [
    {
     "name": "stdout",
     "output_type": "stream",
     "text": [
      "elasticNet: [[  0.2189489  163.97429414 -46.37196643]]\n"
     ]
    }
   ],
   "source": [
    "SGDelastic = linear_model.SGDClassifier(penalty='elasticnet',max_iter=50000,random_state=2)\n",
    "SGDelastic.fit(X_train,y_train)\n",
    "print(\"elasticNet:\",SGDelastic.coef_)"
   ]
  },
  {
   "cell_type": "markdown",
   "metadata": {},
   "source": [
    "## Modificando os alphas"
   ]
  },
  {
   "cell_type": "code",
   "execution_count": 24,
   "metadata": {},
   "outputs": [
    {
     "name": "stdout",
     "output_type": "stream",
     "text": [
      "0.0001\n",
      "None 0.0001 ,ACC: 0.6833333333333333\n",
      "l2 0.0001 ,ACC: 0.6916666666666667\n",
      "l1 0.0001 ,ACC: 0.6833333333333333\n",
      "elasticNet 0.0001 ,ACC: 0.6833333333333333\n",
      "----------\n",
      "\n",
      "0.01\n",
      "None 0.01 ,ACC: 0.7\n",
      "l2 0.01 ,ACC: 0.6916666666666667\n",
      "l1 0.01 ,ACC: 0.675\n",
      "elasticNet 0.01 ,ACC: 0.6916666666666667\n",
      "----------\n",
      "\n",
      "1\n",
      "None 1 ,ACC: 0.7083333333333334\n",
      "l2 1 ,ACC: 0.6833333333333333\n",
      "l1 1 ,ACC: 0.6833333333333333\n",
      "elasticNet 1 ,ACC: 0.6833333333333333\n",
      "----------\n",
      "\n",
      "10\n",
      "None 10 ,ACC: 0.6833333333333333\n",
      "l2 10 ,ACC: 0.6833333333333333\n",
      "l1 10 ,ACC: 0.6833333333333333\n",
      "elasticNet 10 ,ACC: 0.6833333333333333\n",
      "----------\n",
      "\n",
      "100\n",
      "None 100 ,ACC: 0.6833333333333333\n",
      "l2 100 ,ACC: 0.6833333333333333\n",
      "l1 100 ,ACC: 0.6833333333333333\n",
      "elasticNet 100 ,ACC: 0.6833333333333333\n",
      "----------\n",
      "\n"
     ]
    }
   ],
   "source": [
    "for i in [0.0001, 0.01, 1, 10, 100]:\n",
    "    SGDnone = linear_model.SGDClassifier(penalty='none',max_iter=50000,random_state=2,alpha=i)\n",
    "    SGDnone.fit(X_train,y_train)\n",
    "\n",
    "    SGDl2 = linear_model.SGDClassifier(penalty='l2',max_iter=50000,random_state=2,alpha=i)\n",
    "    SGDl2.fit(X_train,y_train)\n",
    "\n",
    "    SGDl1 = linear_model.SGDClassifier(penalty='l1',max_iter=50000,random_state=2,alpha=i)\n",
    "    SGDl1.fit(X_train,y_train)\n",
    "\n",
    "    SGDelastic = linear_model.SGDClassifier(penalty='elasticnet',max_iter=50000,random_state=2,alpha=i)\n",
    "    SGDelastic.fit(X_train,y_train)\n",
    "    print(SGDnone.alpha)\n",
    "    y_1 = SGDnone.predict(X_test)\n",
    "    acc1 = metrics.accuracy_score(y_test,y_1)\n",
    "    print(\"None\",i,\",ACC:\",acc1)\n",
    "    \n",
    "    y_2 = SGDl2.predict(X_test)\n",
    "    acc2 = metrics.accuracy_score(y_test,y_2)\n",
    "    print(\"l2\",i,\",ACC:\",acc2)\n",
    "    \n",
    "    y_3 = SGDl1.predict(X_test)\n",
    "    acc3 = metrics.accuracy_score(y_test,y_3)\n",
    "    print(\"l1\",i,\",ACC:\",acc3)\n",
    "    \n",
    "    y_4 = SGDelastic.predict(X_test)\n",
    "    acc4 = metrics.accuracy_score(y_test,y_4)\n",
    "    print(\"elasticNet\",i,\",ACC:\",acc4)\n",
    "    print(\"----------\")\n",
    "    print()"
   ]
  },
  {
   "cell_type": "markdown",
   "metadata": {},
   "source": [
    "### Com o Alpha 0.0001 a acurácia do modelo foi bem menor"
   ]
  },
  {
   "cell_type": "code",
   "execution_count": null,
   "metadata": {},
   "outputs": [],
   "source": []
  }
 ],
 "metadata": {
  "kernelspec": {
   "display_name": "Python 3",
   "language": "python",
   "name": "python3"
  },
  "language_info": {
   "codemirror_mode": {
    "name": "ipython",
    "version": 3
   },
   "file_extension": ".py",
   "mimetype": "text/x-python",
   "name": "python",
   "nbconvert_exporter": "python",
   "pygments_lexer": "ipython3",
   "version": "3.6.4"
  }
 },
 "nbformat": 4,
 "nbformat_minor": 2
}

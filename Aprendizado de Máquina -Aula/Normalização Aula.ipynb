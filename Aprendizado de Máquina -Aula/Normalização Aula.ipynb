{
 "cells": [
  {
   "cell_type": "code",
   "execution_count": 1,
   "metadata": {
    "collapsed": true
   },
   "outputs": [],
   "source": [
    "import numpy as np\n",
    "from mylibs import transform\n",
    "%matplotlib inline\n",
    "import matplotlib.pyplot as plt\n",
    "import seaborn as sns"
   ]
  },
  {
   "cell_type": "code",
   "execution_count": 2,
   "metadata": {},
   "outputs": [
    {
     "data": {
      "text/plain": [
       "array([[ 54.88],\n",
       "       [ 71.52],\n",
       "       [ 60.28],\n",
       "       [ 54.49],\n",
       "       [ 42.37],\n",
       "       [ 64.59],\n",
       "       [ 43.76],\n",
       "       [ 89.18],\n",
       "       [ 96.37],\n",
       "       [ 38.34],\n",
       "       [ 79.17],\n",
       "       [ 52.89],\n",
       "       [ 56.8 ],\n",
       "       [ 92.56],\n",
       "       [  7.1 ],\n",
       "       [  8.71],\n",
       "       [  2.02],\n",
       "       [ 83.26],\n",
       "       [ 77.82],\n",
       "       [ 87.  ]])"
      ]
     },
     "execution_count": 2,
     "metadata": {},
     "output_type": "execute_result"
    }
   ],
   "source": [
    "np.random.seed(0)\n",
    "X = np.random.rand(20)\n",
    "X = (X*100).round(2)\n",
    "X = np.resize(X, (20,1))\n",
    "X"
   ]
  },
  {
   "cell_type": "code",
   "execution_count": 3,
   "metadata": {
    "collapsed": true
   },
   "outputs": [],
   "source": [
    "def normalize(X):\n",
    "    X_norm = np.copy(X)\n",
    "    n_cols = X.shape[1]\n",
    "\n",
    "    for i in range(n_cols):\n",
    "        X_norm[:,i] = (X[:, i] - np.min(X[:,i])) / (np.max(X[:,i]) - np.min(X[:,i]))\n",
    "    \n",
    "    return X_norm"
   ]
  },
  {
   "cell_type": "code",
   "execution_count": 8,
   "metadata": {},
   "outputs": [
    {
     "data": {
      "text/plain": [
       "array([[ 0.56025437],\n",
       "       [ 0.73661897],\n",
       "       [ 0.61748808],\n",
       "       [ 0.55612083],\n",
       "       [ 0.42766296],\n",
       "       [ 0.66316905],\n",
       "       [ 0.44239534],\n",
       "       [ 0.92379438],\n",
       "       [ 1.        ],\n",
       "       [ 0.38494966],\n",
       "       [ 0.81770005],\n",
       "       [ 0.53916269],\n",
       "       [ 0.58060413],\n",
       "       [ 0.95961844],\n",
       "       [ 0.05384208],\n",
       "       [ 0.0709062 ],\n",
       "       [ 0.        ],\n",
       "       [ 0.86104928],\n",
       "       [ 0.80339163],\n",
       "       [ 0.90068892]])"
      ]
     },
     "execution_count": 8,
     "metadata": {},
     "output_type": "execute_result"
    }
   ],
   "source": [
    "Xnorm = transform.normalize(X)\n",
    "Xnorm"
   ]
  },
  {
   "cell_type": "code",
   "execution_count": 5,
   "metadata": {},
   "outputs": [
    {
     "data": {
      "image/png": "[encoded data removed]",
      "text/plain": [
       "<matplotlib.figure.Figure at 0x7f69cc7c4198>"
      ]
     },
     "metadata": {},
     "output_type": "display_data"
    }
   ],
   "source": [
    "plt.hist(X, bins =20);"
   ]
  },
  {
   "cell_type": "code",
   "execution_count": 6,
   "metadata": {},
   "outputs": [
    {
     "data": {
      "image/png": "[encoded data removed]",
      "text/plain": [
       "<matplotlib.figure.Figure at 0x7f69cc7c4fd0>"
      ]
     },
     "metadata": {},
     "output_type": "display_data"
    }
   ],
   "source": [
    "plt.hist(Xnorm, bins =20);"
   ]
  },
  {
   "cell_type": "code",
   "execution_count": 7,
   "metadata": {},
   "outputs": [
    {
     "data": {
      "image/png": "[encoded data removed]",
      "text/plain": [
       "<matplotlib.figure.Figure at 0x7f69c48de8d0>"
      ]
     },
     "metadata": {},
     "output_type": "display_data"
    }
   ],
   "source": [
    "sns.distplot(X, bins=20, rug=True);"
   ]
  },
  {
   "cell_type": "code",
   "execution_count": null,
   "metadata": {
    "collapsed": true
   },
   "outputs": [],
   "source": []
  }
 ],
 "metadata": {
  "kernelspec": {
   "display_name": "Python 3",
   "language": "python",
   "name": "python3"
  },
  "language_info": {
   "codemirror_mode": {
    "name": "ipython",
    "version": 3
   },
   "file_extension": ".py",
   "mimetype": "text/x-python",
   "name": "python",
   "nbconvert_exporter": "python",
   "pygments_lexer": "ipython3",
   "version": "3.6.3"
  }
 },
 "nbformat": 4,
 "nbformat_minor": 2
}
